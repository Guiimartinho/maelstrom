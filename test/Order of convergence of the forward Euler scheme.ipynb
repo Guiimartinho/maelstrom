{
 "metadata": {
  "name": "Order of convergence of the forward Euler scheme"
 },
 "nbformat": 3,
 "nbformat_minor": 0,
 "worksheets": [
  {
   "cells": [
    {
     "cell_type": "code",
     "collapsed": false,
     "input": [
      "import sympy as smp\n",
      "x, y, t = smp.symbols('x, y, t')\n",
      "import numpy as np\n",
      "pi = np.pi"
     ],
     "language": "python",
     "metadata": {},
     "outputs": [],
     "prompt_number": 1
    },
    {
     "cell_type": "markdown",
     "metadata": {},
     "source": [
      "Define an abribrary solution."
     ]
    },
    {
     "cell_type": "code",
     "collapsed": false,
     "input": [
      "#u = smp.sin(0.5*pi*t) * smp.cos(3*pi*(x-1.0)) * smp.cos(7*pi*y)\n",
      "u = smp.cos(0.5*pi*t) * smp.cos(3*pi*(x-1.0)) * smp.cos(7*pi*y)\n",
      "#u = (1-smp.cos(0.5*pi*t)) * smp.cos(3*pi*(x-1.0)) * smp.cos(7*pi*y)\n",
      "#u = smp.log(1+t) * smp.cos(3*pi*(x-1.0)) * smp.cos(7*pi*y)"
     ],
     "language": "python",
     "metadata": {},
     "outputs": [],
     "prompt_number": 2
    },
    {
     "cell_type": "markdown",
     "metadata": {},
     "source": [
      "Define matching right-hand side for heat equation $u_t - \\Delta u = f$."
     ]
    },
    {
     "cell_type": "code",
     "collapsed": false,
     "input": [
      "f = smp.diff(u,t) - smp.diff(smp.diff(u, x), x) - smp.diff(smp.diff(u, y), y)                                 \n",
      "f = smp.expand(f)"
     ],
     "language": "python",
     "metadata": {},
     "outputs": [],
     "prompt_number": 3
    },
    {
     "cell_type": "markdown",
     "metadata": {},
     "source": [
      "Define forward Euler scheme:"
     ]
    },
    {
     "cell_type": "code",
     "collapsed": false,
     "input": [
      "def forward_euler(u0, dt, f0):\n",
      "    u1 = u0 + dt * (smp.diff(u0, x, 2) + smp.diff(u0, y, 2)) + dt * f0\n",
      "    #u1 = u0\n",
      "    return u1"
     ],
     "language": "python",
     "metadata": {},
     "outputs": [],
     "prompt_number": 5
    },
    {
     "cell_type": "markdown",
     "metadata": {},
     "source": [
      "Perform one step with the above solution."
     ]
    },
    {
     "cell_type": "code",
     "collapsed": false,
     "input": [
      "Dt = [0.5**k for k in range(10)]\n",
      "Err = []\n",
      "for dt in Dt:\n",
      "    u0 = u.subs({t:0.0})\n",
      "    f0 = f.subs({t:0.0})\n",
      "    u_approx = forward_euler(u0, dt, f0)\n",
      "    u1 = u.subs({t:dt})\n",
      "    err = u1 - u_approx\n",
      "    # Compute L^2 norm over unit square [0,1]^2.\n",
      "    err_norm = smp.sqrt(smp.integrate(err**2, (x, 0.0, 1.0), (y, 0.0, 1.0)))\n",
      "    Err.append(err_norm)"
     ],
     "language": "python",
     "metadata": {},
     "outputs": [],
     "prompt_number": 6
    },
    {
     "cell_type": "markdown",
     "metadata": {},
     "source": [
      "Plot error norm."
     ]
    },
    {
     "cell_type": "code",
     "collapsed": false,
     "input": [
      "from matplotlib import pyplot as pp\n",
      "# Show orders 1,2,3 for comparison\n",
      "for o in [1,2,3,4]:\n",
      "    pp.loglog([Dt[0], Dt[-1]], [Err[0], Err[0]*(Dt[-1]/Dt[0])**o], color='0.5') \n",
      "pp.loglog(Dt, Err,'o-')\n",
      "pp.show()"
     ],
     "language": "python",
     "metadata": {},
     "outputs": [],
     "prompt_number": 9
    },
    {
     "cell_type": "code",
     "collapsed": false,
     "input": [],
     "language": "python",
     "metadata": {},
     "outputs": [],
     "prompt_number": 66
    },
    {
     "cell_type": "code",
     "collapsed": false,
     "input": [],
     "language": "python",
     "metadata": {},
     "outputs": []
    }
   ],
   "metadata": {}
  }
 ]
}